{
  "nbformat": 4,
  "nbformat_minor": 0,
  "metadata": {
    "colab": {
      "name": "python assign(day4).ipynb",
      "provenance": []
    },
    "kernelspec": {
      "name": "python3",
      "display_name": "Python 3"
    },
    "language_info": {
      "name": "python"
    }
  },
  "cells": [
    {
      "cell_type": "code",
      "execution_count": 1,
      "metadata": {
        "id": "8tamtvUjocrr"
      },
      "outputs": [],
      "source": [
        "import numpy as np"
      ]
    },
    {
      "cell_type": "code",
      "source": [
        "arr = [[[91,25,73],[46,58,62]],[[87,8,29],[15,1,7]]]\n",
        "for x in arr:\n",
        "  for y in x:\n",
        "    for z in y:\n",
        "      print(z)\n"
      ],
      "metadata": {
        "colab": {
          "base_uri": "https://localhost:8080/"
        },
        "id": "U5kxYG2HohIJ",
        "outputId": "e83128cf-25ed-448b-bd20-2a206d249200"
      },
      "execution_count": 4,
      "outputs": [
        {
          "output_type": "stream",
          "name": "stdout",
          "text": [
            "91\n",
            "25\n",
            "73\n",
            "46\n",
            "58\n",
            "62\n",
            "87\n",
            "8\n",
            "29\n",
            "15\n",
            "1\n",
            "7\n"
          ]
        }
      ]
    }
  ]
}